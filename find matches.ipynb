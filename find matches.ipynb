{
 "cells": [
  {
   "cell_type": "code",
   "execution_count": null,
   "id": "283bbaf2",
   "metadata": {},
   "outputs": [],
   "source": [
    "import sys\n",
    "from awsglue.transforms import *\n",
    "from awsglue.utils import getResolvedOptions\n",
    "from pyspark.context import SparkContext\n",
    "from awsglue.context import GlueContext\n",
    "from awsglue.job import Job\n",
    "\n",
    "glueContext = GlueContext(SparkContext.getOrCreate())"
   ]
  },
  {
   "cell_type": "code",
   "execution_count": null,
   "id": "628d912e",
   "metadata": {},
   "outputs": [],
   "source": [
    "#show data1\n",
    "data1 = glueContext.create_dynamic_frame.from_catalog(database = \"data1\", table_name=\"newdataset1_csv\").toDF()\n",
    "print (\"Records: \", data1.count())\n",
    "data1.show()"
   ]
  },
  {
   "cell_type": "code",
   "execution_count": null,
   "id": "2f9178a6",
   "metadata": {},
   "outputs": [],
   "source": [
    "#show data2\n",
    "data2 = glueContext.create_dynamic_frame.from_catalog(database = \"data1\", table_name=\"dataset2_csv\").toDF()\n",
    "print (\"Records: \", data2.count())\n",
    "data2.show()"
   ]
  },
  {
   "cell_type": "code",
   "execution_count": null,
   "id": "f2523b83",
   "metadata": {},
   "outputs": [],
   "source": [
    "#merge datasets, adding an extra column indicating the dataset source\n",
    "from pyspark.sql.functions import lit\n",
    "datasets = data1.withColumn(\"source\",lit(\"data1\")).unionAll(data2.withColumn(\"source\",lit(\"data2\")))\n",
    "print (\"combined dataset length: \", datasets.count())\n",
    "datasets.show()"
   ]
  },
  {
   "cell_type": "code",
   "execution_count": null,
   "id": "47a0e01f",
   "metadata": {},
   "outputs": [],
   "source": [
    "#data output\n",
    "datasets.coalesce(1).write.json(\"s3://usecase1-find-matches/clean/data_clean.json\",mode = \"overwrite\")"
   ]
  },
  {
   "cell_type": "code",
   "execution_count": null,
   "id": "1015b73c",
   "metadata": {},
   "outputs": [],
   "source": [
    "#view labels\n",
    "labels = glueContext.create_dynamic_frame.from_catalog(database = \"data1\", table_name=\"labels_50_csv\").toDF()\n",
    "print (\"labels length: \", labels.count())\n",
    "labels.show()"
   ]
  },
  {
   "cell_type": "code",
   "execution_count": null,
   "id": "7d4c0eee",
   "metadata": {},
   "outputs": [],
   "source": [
    "#quick preview of the output\n",
    "output = glueContext.create_dynamic_frame.from_catalog(database = \"data1\", table_name=\"output\").toDF()\n",
    "print (\"output dataset length: \", output.count())\n",
    "output.show()"
   ]
  },
  {
   "cell_type": "code",
   "execution_count": null,
   "id": "8407dc8f",
   "metadata": {},
   "outputs": [],
   "source": [
    "from pyspark.sql.functions import col\n",
    "\n",
    "output.sort(col(\"match_id\")).show()"
   ]
  },
  {
   "cell_type": "code",
   "execution_count": null,
   "id": "8da1f76b",
   "metadata": {},
   "outputs": [],
   "source": [
    "output.groupby(col(\"match_id\")).count().where(col(\"count\")> 1).show()"
   ]
  },
  {
   "cell_type": "code",
   "execution_count": null,
   "id": "d3a382d9",
   "metadata": {},
   "outputs": [],
   "source": [
    "output.filter(output.match_id==226).show()"
   ]
  },
  {
   "cell_type": "code",
   "execution_count": null,
   "id": "096bc308",
   "metadata": {},
   "outputs": [],
   "source": []
  }
 ],
 "metadata": {
  "kernelspec": {
   "display_name": "Python 3 (ipykernel)",
   "language": "python",
   "name": "python3"
  },
  "language_info": {
   "codemirror_mode": {
    "name": "ipython",
    "version": 3
   },
   "file_extension": ".py",
   "mimetype": "text/x-python",
   "name": "python",
   "nbconvert_exporter": "python",
   "pygments_lexer": "ipython3",
   "version": "3.9.7"
  }
 },
 "nbformat": 4,
 "nbformat_minor": 5
}
