{
 "cells": [
  {
   "cell_type": "code",
   "execution_count": 1,
   "id": "283bbaf2",
   "metadata": {},
   "outputs": [
    {
     "name": "stdout",
     "output_type": "stream",
     "text": [
      "Starting Spark application\n"
     ]
    },
    {
     "data": {
      "text/html": [
       "<table>\n",
       "<tr><th>ID</th><th>YARN Application ID</th><th>Kind</th><th>State</th><th>Spark UI</th><th>Driver log</th><th>User</th><th>Current session?</th></tr><tr><td>2</td><td>application_1642553903602_0003</td><td>pyspark</td><td>idle</td><td><a target=\"_blank\" href=\"http://ip-172-32-142-231.ec2.internal:20888/proxy/application_1642553903602_0003/\">Link</a></td><td><a target=\"_blank\" href=\"http://ip-172-32-138-21.ec2.internal:8042/node/containerlogs/container_1642553903602_0003_01_000001/livy\">Link</a></td><td>None</td><td>✔</td></tr></table>"
      ],
      "text/plain": [
       "<IPython.core.display.HTML object>"
      ]
     },
     "metadata": {},
     "output_type": "display_data"
    },
    {
     "data": {
      "application/vnd.jupyter.widget-view+json": {
       "model_id": "",
       "version_major": 2,
       "version_minor": 0
      },
      "text/plain": [
       "FloatProgress(value=0.0, bar_style='info', description='Progress:', layout=Layout(height='25px', width='50%'),…"
      ]
     },
     "metadata": {},
     "output_type": "display_data"
    },
    {
     "name": "stdout",
     "output_type": "stream",
     "text": [
      "SparkSession available as 'spark'.\n"
     ]
    },
    {
     "data": {
      "application/vnd.jupyter.widget-view+json": {
       "model_id": "",
       "version_major": 2,
       "version_minor": 0
      },
      "text/plain": [
       "FloatProgress(value=0.0, bar_style='info', description='Progress:', layout=Layout(height='25px', width='50%'),…"
      ]
     },
     "metadata": {},
     "output_type": "display_data"
    }
   ],
   "source": [
    "import sys\n",
    "from awsglue.transforms import *\n",
    "from awsglue.utils import getResolvedOptions\n",
    "from pyspark.context import SparkContext\n",
    "from awsglue.context import GlueContext\n",
    "from awsglue.job import Job\n",
    "\n",
    "glueContext = GlueContext(SparkContext.getOrCreate())"
   ]
  },
  {
   "cell_type": "code",
   "execution_count": 2,
   "id": "628d912e",
   "metadata": {},
   "outputs": [
    {
     "data": {
      "application/vnd.jupyter.widget-view+json": {
       "model_id": "",
       "version_major": 2,
       "version_minor": 0
      },
      "text/plain": [
       "FloatProgress(value=0.0, bar_style='info', description='Progress:', layout=Layout(height='25px', width='50%'),…"
      ]
     },
     "metadata": {},
     "output_type": "display_data"
    },
    {
     "name": "stdout",
     "output_type": "stream",
     "text": [
      "Records:  2616\n",
      "+--------------------+--------------------+--------------------+-------------+----+\n",
      "|                  id|               title|             authors|        venue|year|\n",
      "+--------------------+--------------------+--------------------+-------------+----+\n",
      "|conf_vldb_Rusinki...|Towards a Coopera...|M Rusinkiewicz, W...|         VLDB|1995|\n",
      "|journals_sigmod_E...|SQLXML is Making ...|A Eisenberg, J Me...|SIGMOD Record|2002|\n",
      "|conf_vldb_AmmannJR95|Using Formal Meth...|P Ammann, S Jajod...|         VLDB|1995|\n",
      "|journals_sigmod_L...|      Editor's Notes|               L Liu|SIGMOD Record|2002|\n",
      "|journals_sigmod_H...|Report on the ACM...|                 N/A|          N/A|2002|\n",
      "|conf_vldb_Ferrand...|Schema and Databa...|F Ferrandina, T M...|         VLDB|1995|\n",
      "|conf_vldb_Subieta...|Procedures in Obj...|K Subieta, Y Kamb...|         VLDB|1995|\n",
      "|journals_sigmod_B...|Phoenix Project: ...|    R Barga, D Lomet|SIGMOD Record|2002|\n",
      "|journals_sigmod_O...|Mining the World ...|                 N/A|          N/A|2002|\n",
      "| conf_vldb_MoserKK95|LMRP: A Buffer Ma...|F Moser, A Kraiss...|         VLDB|1995|\n",
      "|journals_sigmod_K...|Report on the NSF...|                 N/A|          N/A|2002|\n",
      "|conf_vldb_Chaudhu...|Retrieval of Comp...|S Chaudhuri, S Gh...|         VLDB|1995|\n",
      "|journals_sigmod_K...|MPEG-7 and Multim...|             H Kosch|SIGMOD Record|2002|\n",
      "|    conf_vldb_LuTD95|The Fittest Survi...|  H Lu, K Tan, S Dao|         VLDB|1995|\n",
      "|journals_sigmod_R...|Reminiscences on ...|                 N/A|          N/A|2002|\n",
      "|conf_vldb_TreschPL95|Type Classificati...|M Tresch, N Palme...|         VLDB|1995|\n",
      "|journals_sigmod_G...|Data Mining: Prac...|            J Geller|SIGMOD Record|2002|\n",
      "|  conf_vldb_MehtaD95|Managing Intra-op...|   M Mehta, D DeWitt|         VLDB|1995|\n",
      "|journals_sigmod_C...|Advances in Datab...|A Caplinskas, J E...|SIGMOD Record|2002|\n",
      "|conf_vldb_SrikantA95|Mining Generalize...|R Srikant, R Agrawal|         VLDB|1995|\n",
      "+--------------------+--------------------+--------------------+-------------+----+\n",
      "only showing top 20 rows"
     ]
    }
   ],
   "source": [
    "#show data1\n",
    "data1 = glueContext.create_dynamic_frame.from_catalog(database = \"data1\", table_name=\"newdataset1_csv\").toDF()\n",
    "print (\"Records: \", data1.count())\n",
    "data1.show()"
   ]
  },
  {
   "cell_type": "code",
   "execution_count": 3,
   "id": "2f9178a6",
   "metadata": {},
   "outputs": [
    {
     "data": {
      "application/vnd.jupyter.widget-view+json": {
       "model_id": "",
       "version_major": 2,
       "version_minor": 0
      },
      "text/plain": [
       "FloatProgress(value=0.0, bar_style='info', description='Progress:', layout=Layout(height='25px', width='50%'),…"
      ]
     },
     "metadata": {},
     "output_type": "display_data"
    },
    {
     "name": "stdout",
     "output_type": "stream",
     "text": [
      "Records:  64263\n",
      "+------------+--------------------+--------------------+--------------------+----+\n",
      "|          id|               title|             authors|               venue|year|\n",
      "+------------+--------------------+--------------------+--------------------+----+\n",
      "|aKcZKwvwbQwJ|11578 Sorrento Va...|              QD Inc|          San Diego,|null|\n",
      "|ixKfiTHoaDoJ|Initiation of cra...|AS Argon, JG Hann...|          Phil. Mag,|null|\n",
      "|3BxllB4wwcIJ|Immunogold labell...|GH Hansen, LL Wet...|The Histochemical...|1992|\n",
      "|d2WWxwKMex4J|The Burden of Inf...|TM Hammett, P Har...|                 see|null|\n",
      "|cZCX-AQpjccJ|The Role of Facul...|          JR Cogdell|NEW DIRECTIONS FO...|1995|\n",
      "|DMhfVNSDYD4J|The zero multipli...|          WM Schmidt|                  to|null|\n",
      "|97wRWOpnANkJ|PREDICITVE VALIDI...|            RA Haats|                    |2002|\n",
      "|xSv97kdDZU8J|The Photosyntheti...|JR Norris, J Deis...|San Diego: Academic,|null|\n",
      "|vj0-A5RoktIJ|F., Diene, AW, Nd...|           F Bennour|Res. Rep. CERIA, ...|null|\n",
      "|6TKMB5gO9EoJ|Multidimensional ...|  I Borg, JC Lingoes|                    |1987|\n",
      "|im0SIHX8SOcJ|Linear Algebra an...|            G Strang|          San Diego,|null|\n",
      "|izK60fJMujQJ|deD., D. Roncagli...|          J OrtÃºzar|Proceedings of th...|null|\n",
      "|UPWEn_-Pd-sJ|Stereochemical Ap...|K Kuchitsu, M Nak...|          Hargittai,|null|\n",
      "|lDTPyBMtHVwJ|Obtaining Complet...|             AY Levy|PROCEEDINGS OF TH...|1996|\n",
      "|173qcCip5coJ|Li., C., AND Vitt...|A Natsev, Y Chang...|Proceedings of th...|null|\n",
      "|I3mRuMui5o0J|Classical topolog...|         J Stillwell|                    |1995|\n",
      "|0GT_dHqK5roJ|A Database Index ...|E Hunt, MP Atkins...|                    |null|\n",
      "|6wr9qvjWwy4J|Progress through ...|           GS Probst|Seattle, Washingt...|null|\n",
      "|yNwfL9rufUIJ|Pain and leg ulce...|            D Hofman|Proceedings of th...|1998|\n",
      "|k9_rZiB4rKoJ|Recognita Plus: O...|             B Simon|   PC Magazine (10),|null|\n",
      "+------------+--------------------+--------------------+--------------------+----+\n",
      "only showing top 20 rows"
     ]
    }
   ],
   "source": [
    "#show data2\n",
    "data2 = glueContext.create_dynamic_frame.from_catalog(database = \"data1\", table_name=\"dataset2_csv\").toDF()\n",
    "print (\"Records: \", data2.count())\n",
    "data2.show()"
   ]
  },
  {
   "cell_type": "code",
   "execution_count": null,
   "id": "f2523b83",
   "metadata": {},
   "outputs": [],
   "source": [
    "#merge datasets, adding an extra column indicating the dataset source\n",
    "from pyspark.sql.functions import lit\n",
    "datasets = data1.withColumn(\"source\",lit(\"data1\")).unionAll(data2.withColumn(\"source\",lit(\"data2\")))\n",
    "print (\"combined dataset length: \", datasets.count())\n",
    "datasets.show()"
   ]
  },
  {
   "cell_type": "code",
   "execution_count": null,
   "id": "47a0e01f",
   "metadata": {},
   "outputs": [],
   "source": [
    "#data output\n",
    "datasets.coalesce(1).write.json(\"s3://usecase1-find-matches/clean/data_clean.json\",mode = \"overwrite\")"
   ]
  },
  {
   "cell_type": "code",
   "execution_count": 21,
   "id": "1015b73c",
   "metadata": {},
   "outputs": [
    {
     "data": {
      "application/vnd.jupyter.widget-view+json": {
       "model_id": "",
       "version_major": 2,
       "version_minor": 0
      },
      "text/plain": [
       "FloatProgress(value=0.0, bar_style='info', description='Progress:', layout=Layout(height='25px', width='50%'),…"
      ]
     },
     "metadata": {},
     "output_type": "display_data"
    },
    {
     "name": "stdout",
     "output_type": "stream",
     "text": [
      "labels length:  352\n",
      "+---------------+-----+--------------------+--------------------+--------------------+--------------------+----+------+\n",
      "|labeling_set_id|label|                  id|               title|             authors|               venue|year|source|\n",
      "+---------------+-----+--------------------+--------------------+--------------------+--------------------+----+------+\n",
      "|              0|    0|conf_sigmod_AbadiC02|Visual COKO: a de...|D Abadi, M Cherniack|   SIGMOD Conference|2002| data1|\n",
      "|              0|    0|        f2Lea-RN8dsJ|Visual COKO: a de...|            DJ Abadi|  SIGMOD Conference,|2002| data2|\n",
      "|              0|    1|conf_sigmod_Abadi...|Aurora: A Data St...|D Abadi, D Carney...|   SIGMOD Conference|2003| data1|\n",
      "|              0|    1|        eBnT7lhV2LwJ|Aurora: A Data St...|D Abadi, D Carney...|Proceedings of th...|null| data2|\n",
      "|              0|    1|journals_vldb_Aba...|Aurora: a new mod...|D Abadi, D Carney...|             VLDB J.|2003| data1|\n",
      "|              0|    2|        AxpQwgyRyLgJ|Active XML Docume...|S Abiteboul, A Bo...|         ACM SIGMOD,|null| data2|\n",
      "|              0|    2|conf_sigmod_Abite...|Dynamic XML docum...|S Abiteboul, A Bo...|   SIGMOD Conference|2003| data1|\n",
      "|              0|    2|        Rjb06zlxbLIJ|Dynamic XML docum...|S Abiteboul, A Bo...|  SIGMOD Conference,|2003| data2|\n",
      "|              0|    3|conf_sigmod_Abite...|A Database Interf...|S Abiteboul, S Cl...|   SIGMOD Conference|1995| data1|\n",
      "|              0|    3|        DakOA4Ew-poJ|A Database Interf...|S Abiteboul, S Cl...|Proc. ACM SIGMOD ...|null| data2|\n",
      "|              0|    3|        cu9DXtjeF24J|A database interf...|S Abiteboul, S Cl...|Proceedings of th...|1995| data2|\n",
      "|              1|    0|        WWaxLMIptTMJ|Self-tuning Histo...|A Aboulnaga, S Ch...|  SIGMOD Conference,|1999| data2|\n",
      "|              1|    0|        xnDzelm2t1QJ|Self-tuning Histo...|  AA AC, S Chaudhuri|Proceedings of th...|null| data2|\n",
      "|              1|    0|conf_sigmod_Aboul...|Self-tuning Histo...|A Aboulnaga, S Ch...|   SIGMOD Conference|1999| data1|\n",
      "|              1|    1|        rO4-yA3tlfoJ|Broadcast Disks: ...|S Acharya, R Alon...|  SIGMOD Conference,|1995| data2|\n",
      "|              1|    1|        2fO9nM2FoGYJ|Broadcast Disks: ...|S Acharya, R Alon...|         ACM SIGMOD,|null| data2|\n",
      "|              1|    1|        y74PIIvb_GMJ|Broadcast Disks: ...|S Achary, M Frank...|Proceedings of th...|null| data2|\n",
      "|              1|    2|        umGxlKvzLoUJ|Pull for Data Bro...|S Acharya, M Fran...|Proc. ACM SIGMOD ...|null| data2|\n",
      "|              1|    2|        9OEjtHuRUzsJ|Balancing Push an...|S Acharya, M Fran...|  SIGMOD Conference,|1997| data2|\n",
      "|              1|    2|        qdCTR7WpuFUJ|Balancing push an...|M Franklin, S Zdonik|Proceedings of th...|null| data2|\n",
      "+---------------+-----+--------------------+--------------------+--------------------+--------------------+----+------+\n",
      "only showing top 20 rows"
     ]
    }
   ],
   "source": [
    "#view labels\n",
    "labels = glueContext.create_dynamic_frame.from_catalog(database = \"data1\", table_name=\"labels_50_csv\").toDF()\n",
    "print (\"labels length: \", labels.count())\n",
    "labels.show()"
   ]
  },
  {
   "cell_type": "code",
   "execution_count": 16,
   "id": "7d4c0eee",
   "metadata": {},
   "outputs": [
    {
     "data": {
      "application/vnd.jupyter.widget-view+json": {
       "model_id": "",
       "version_major": 2,
       "version_minor": 0
      },
      "text/plain": [
       "FloatProgress(value=0.0, bar_style='info', description='Progress:', layout=Layout(height='25px', width='50%'),…"
      ]
     },
     "metadata": {},
     "output_type": "display_data"
    },
    {
     "name": "stdout",
     "output_type": "stream",
     "text": [
      "output dataset length:  133758\n",
      "+--------------------+--------------------+--------------------+--------------------+----+------+--------+\n",
      "|                  id|               title|             authors|               venue|year|source|match_id|\n",
      "+--------------------+--------------------+--------------------+--------------------+----+------+--------+\n",
      "|journals_sigmod_C...|An Active Functio...| M Cilia, A Buchmann|       SIGMOD Record|2002| data1|      29|\n",
      "|journals_sigmod_S...|Research in Multi...|A Sheth, J Miller...|       SIGMOD Record|2001| data1|     171|\n",
      "|conf_sigmod_Zhang...|Location-based Sp...|J Zhang, M Zhu, D...|   SIGMOD Conference|2003| data1|     364|\n",
      "|conf_sigmod_Dogac...|An ebXML infrastr...|A Dogac, Y Tambag...|   SIGMOD Conference|2002| data1|     480|\n",
      "|conf_sigmod_Proco...|A Monte Carlo alg...|C Procopiuc, M Jo...|   SIGMOD Conference|2002| data1|     501|\n",
      "|journals_sigmod_B...|Repositories and ...|         P Bernstein|       SIGMOD Record|1998| data1|     631|\n",
      "|conf_sigmod_Drape...|The Nimble Integr...|D Draper, A Halev...|   SIGMOD Conference|2001| data1|     686|\n",
      "|journals_sigmod_S...|To Table or Not t...|G Santucci, L Tar...|       SIGMOD Record|1996| data1|     747|\n",
      "|journals_tods_Cho...|Preference formul...|          J Chomicki|ACM Trans. Databa...|2003| data1|     906|\n",
      "|conf_vldb_MohanBW...|Evolution of Grou...|C Mohan, R Barber...|                VLDB|2000| data1|    1177|\n",
      "|conf_vldb_Anciaux...|PicoDBMS: Validat...|N Anciaux, C Bobi...|                VLDB|2001| data1|    1226|\n",
      "|conf_sigmod_Achar...|Balancing Push an...|S Acharya, M Fran...|   SIGMOD Conference|1997| data1|    1238|\n",
      "|   conf_vldb_ChanI99|Hierarchical Pref...| C Chan, Y Ioannidis|                VLDB|1999| data1|    1487|\n",
      "|conf_vldb_Chaudhu...|Evaluating Top-k ...|S Chaudhuri, L Gr...|                VLDB|1999| data1|    1491|\n",
      "|conf_sigmod_WhiteD94|QuickStore: A Hig...|   S White, D DeWitt|   SIGMOD Conference|1994| data1|    1779|\n",
      "|conf_vldb_Objecti...|Objectivity Indus...|       O Objectivity|                VLDB|1998| data1|    1785|\n",
      "|conf_sigmod_Hwang...|The MYRIAD Federa...|S Hwang, E Lim, H...|   SIGMOD Conference|1994| data1|    1829|\n",
      "|conf_vldb_GravanoG95|Generalizing GlOS...|L Gravano, H Garc...|                VLDB|1995| data1|    1935|\n",
      "|  conf_vldb_MeekPK03|OASIS: An Online ...|C Meek, J Patel, ...|                VLDB|2003| data1|    2025|\n",
      "|conf_vldb_BergerB...|Xcerpt and visXce...|S Berger, F Bry, ...|                VLDB|2003| data1|    2040|\n",
      "+--------------------+--------------------+--------------------+--------------------+----+------+--------+\n",
      "only showing top 20 rows"
     ]
    }
   ],
   "source": [
    "#quick preview of the output\n",
    "output = glueContext.create_dynamic_frame.from_catalog(database = \"data1\", table_name=\"output\").toDF()\n",
    "print (\"output dataset length: \", output.count())\n",
    "output.show()"
   ]
  },
  {
   "cell_type": "code",
   "execution_count": 18,
   "id": "8407dc8f",
   "metadata": {},
   "outputs": [
    {
     "data": {
      "application/vnd.jupyter.widget-view+json": {
       "model_id": "",
       "version_major": 2,
       "version_minor": 0
      },
      "text/plain": [
       "FloatProgress(value=0.0, bar_style='info', description='Progress:', layout=Layout(height='25px', width='50%'),…"
      ]
     },
     "metadata": {},
     "output_type": "display_data"
    },
    {
     "name": "stdout",
     "output_type": "stream",
     "text": [
      "+--------------------+--------------------+--------------------+--------------------+----+------+--------+\n",
      "|                  id|               title|             authors|               venue|year|source|match_id|\n",
      "+--------------------+--------------------+--------------------+--------------------+----+------+--------+\n",
      "|        019zSr3Lx4EJ|Towards a coopera...|M Rusinkiewicz, W...|Proceedings of th...|null| data2|       0|\n",
      "|        T2fm7Wb1ak4J|Towards a Coopera...|M Rusinkiewicz, W...|PROCEEDINGS OF TH...|1995| data2|       0|\n",
      "|conf_vldb_Rusinki...|Towards a Coopera...|M Rusinkiewicz, W...|                VLDB|1995| data1|       0|\n",
      "|        T2fm7Wb1ak4J|Towards a Coopera...|M Rusinkiewicz, W...|PROCEEDINGS OF TH...|1995| data2|       0|\n",
      "|conf_vldb_Rusinki...|Towards a Coopera...|M Rusinkiewicz, W...|                VLDB|1995| data1|       0|\n",
      "|        019zSr3Lx4EJ|Towards a coopera...|M Rusinkiewicz, W...|Proceedings of th...|null| data2|       0|\n",
      "|        wgK6p4mDSIMJ|SQL/XML is Making...|A Eisenberg, J Me...|      SIGMOD Record,|2002| data2|       1|\n",
      "|journals_sigmod_E...|SQLXML is Making ...|A Eisenberg, J Me...|       SIGMOD Record|2002| data1|       1|\n",
      "|        wgK6p4mDSIMJ|SQL/XML is Making...|A Eisenberg, J Me...|      SIGMOD Record,|2002| data2|       1|\n",
      "|journals_sigmod_E...|SQLXML is Making ...|A Eisenberg, J Me...|       SIGMOD Record|2002| data1|       1|\n",
      "|conf_vldb_AmmannJR95|Using Formal Meth...|P Ammann, S Jajod...|                VLDB|1995| data1|       2|\n",
      "|conf_vldb_AmmannJR95|Using Formal Meth...|P Ammann, S Jajod...|                VLDB|1995| data1|       2|\n",
      "|        x-H7BqZ0Hw8J|Using Formal Meth...|P Ammann, S Jajod...|PROCEEDINGS OF TH...|1995| data2|       2|\n",
      "|        x-H7BqZ0Hw8J|Using Formal Meth...|P Ammann, S Jajod...|PROCEEDINGS OF TH...|1995| data2|       2|\n",
      "|journals_sigmod_L...|      Editor's Notes|               L Liu|       SIGMOD Record|2002| data1|       3|\n",
      "|journals_sigmod_L...|      Editor's Notes|               L Liu|       SIGMOD Record|2002| data1|       3|\n",
      "|journals_sigmod_L...|      Editor's Notes|               L Liu|       SIGMOD Record|2002| data1|       3|\n",
      "|journals_sigmod_L...|      Editor's Notes|               L Liu|       SIGMOD Record|2002| data1|       3|\n",
      "|journals_sigmod_L...|      Editor's Notes|               L Liu|       SIGMOD Record|2002| data1|       3|\n",
      "|journals_sigmod_L...|      Editor's Notes|               L Liu|       SIGMOD Record|2002| data1|       3|\n",
      "+--------------------+--------------------+--------------------+--------------------+----+------+--------+\n",
      "only showing top 20 rows"
     ]
    }
   ],
   "source": [
    "from pyspark.sql.functions import col\n",
    "\n",
    "output.sort(col(\"match_id\")).show()"
   ]
  },
  {
   "cell_type": "code",
   "execution_count": 19,
   "id": "8da1f76b",
   "metadata": {},
   "outputs": [
    {
     "data": {
      "application/vnd.jupyter.widget-view+json": {
       "model_id": "",
       "version_major": 2,
       "version_minor": 0
      },
      "text/plain": [
       "FloatProgress(value=0.0, bar_style='info', description='Progress:', layout=Layout(height='25px', width='50%'),…"
      ]
     },
     "metadata": {},
     "output_type": "display_data"
    },
   ],
   "source": [
    "output.groupby(col(\"match_id\")).count().where(col(\"count\")> 1).show()"
   ]
  },
  {
   "cell_type": "code",
   "execution_count": 20,
   "id": "d3a382d9",
   "metadata": {},
   "outputs": [
    {
     "data": {
      "application/vnd.jupyter.widget-view+json": {
       "model_id": "",
       "version_major": 2,
       "version_minor": 0
      },
      "text/plain": [
       "FloatProgress(value=0.0, bar_style='info', description='Progress:', layout=Layout(height='25px', width='50%'),…"
      ]
     },
     "metadata": {},
     "output_type": "display_data"
    },
    {
     "name": "stdout",
     "output_type": "stream",
     "text": [
      "+--------------------+--------------------+--------------+--------------------+----+------+--------+\n",
      "|                  id|               title|       authors|               venue|year|source|match_id|\n",
      "+--------------------+--------------------+--------------+--------------------+----+------+--------+\n",
      "|        YG9Js5mJbV0J|Guest Editor's In...| WC Newstetter|Journal of the Le...|null| data2|     226|\n",
      "|url:http://portal...|Guest editor's in...|      K Aberer|  ACM SIGMOD Record,|2003| data2|     226|\n",
      "|journals_sigmod_D...|Guest Editor's In...|           N/A|                 N/A|1998| data1|     226|\n",
      "|journals_sigmod_A...|Guest editor's in...|           N/A|                 N/A|2003| data1|     226|\n",
      "|        DJpFoidxWGMJ|Guest editor's in...|    SA Goldman|   Machine Learning,|1995| data2|     226|\n",
      "|url:http://www.in...|Guest editor's in...|      WB Elley|International Jou...|2001| data2|     226|\n",
      "|url:http://www.sp...|Guest Editor's In...|      Y Singer|   Machine Learning,|2001| data2|     226|\n",
      "|        dNM-avLn230J|Guest editor's in...|portal.acm.org|                    |null| data2|     226|\n",
      "|        KX9tZqfLvrgJ|Guest editor's in...|     N Verloop|INTERNATIONAL JOU...|2001| data2|     226|\n",
      "|        CqN0lBzsmEoJ|Guest Editor's In...|    F Highland|IEEE Expert: Inte...|1994| data2|     226|\n",
      "|        rqTxO0ix3qUJ|Guest Editor's In...|       F Dehne|       Algorithmica,|1999| data2|     226|\n",
      "|journals_sigmod_D...|Guest Editor's In...|           N/A|                 N/A|2002| data1|     226|\n",
      "|journals_sigmod_M...|Guest Editor's In...|           N/A|                 N/A|2002| data1|     226|\n",
      "|        YG9Js5mJbV0J|Guest Editor's In...| WC Newstetter|Journal of the Le...|null| data2|     226|\n",
      "|url:http://portal...|Guest editor's in...|      K Aberer|  ACM SIGMOD Record,|2003| data2|     226|\n",
      "|journals_sigmod_D...|Guest Editor's In...|           N/A|                 N/A|1998| data1|     226|\n",
      "|journals_sigmod_A...|Guest editor's in...|           N/A|                 N/A|2003| data1|     226|\n",
      "|        DJpFoidxWGMJ|Guest editor's in...|    SA Goldman|   Machine Learning,|1995| data2|     226|\n",
      "|url:http://www.in...|Guest editor's in...|      WB Elley|International Jou...|2001| data2|     226|\n",
      "|url:http://www.sp...|Guest Editor's In...|      Y Singer|   Machine Learning,|2001| data2|     226|\n",
      "+--------------------+--------------------+--------------+--------------------+----+------+--------+\n",
      "only showing top 20 rows"
     ]
    }
   ],
   "source": [
    "output.filter(output.match_id==226).show()"
   ]
  },
  {
   ]
  }
 ],
 "metadata": {
  "kernelspec": {
   "display_name": "Sparkmagic (PySpark)",
   "language": "python",
   "name": "pysparkkernel"
  },
  "language_info": {
   "codemirror_mode": {
    "name": "python",
    "version": 3
   },
   "file_extension": ".py",
   "mimetype": "text/x-python",
   "name": "pyspark",
   "pygments_lexer": "python3"
  }
 },
 "nbformat": 4,
 "nbformat_minor": 5
}
